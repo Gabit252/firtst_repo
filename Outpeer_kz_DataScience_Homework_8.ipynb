{
 "cells": [
  {
   "cell_type": "code",
   "execution_count": 46,
   "id": "b2b17440",
   "metadata": {},
   "outputs": [
    {
     "name": "stdout",
     "output_type": "stream",
     "text": [
      "Оптимальное значение x: 2.0370359763344878e-09\n",
      "Значение функции потерь в оптимальной точке: 4.1495155688809995e-18\n"
     ]
    }
   ],
   "source": [
    "import numpy as np\n",
    "\n",
    "def loss_function(x):\n",
    "    return x**2\n",
    "\n",
    "def gradient(x):\n",
    "    return 2*x\n",
    "\n",
    "def gradient_descent(starting_point, learning_rate, iterations):\n",
    "    x = starting_point\n",
    "    trajectory = [x]\n",
    "    for _ in range(iterations):\n",
    "        grad = gradient(x)\n",
    "        x = x - learning_rate * grad\n",
    "        trajectory.append(x)\n",
    "    return x, trajectory\n",
    "\n",
    "starting_point = 10\n",
    "learning_rate = 0.1\n",
    "iterations = 100\n",
    "\n",
    "optimal_x, trajectory = gradient_descent(starting_point, learning_rate, iterations)\n",
    "\n",
    "print(f\"Оптимальное значение x: {optimal_x}\")\n",
    "print(f\"Значение функции потерь в оптимальной точке: {loss_function(optimal_x)}\")\n",
    "\n",
    "x_values = np.linspace(-2, 12, 100)\n",
    "loss_values = loss_function(x_values)"
   ]
  },
  {
   "cell_type": "code",
   "execution_count": null,
   "id": "7e1ea0b4",
   "metadata": {},
   "outputs": [],
   "source": []
  }
 ],
 "metadata": {
  "kernelspec": {
   "display_name": "Python 3 (ipykernel)",
   "language": "python",
   "name": "python3"
  },
  "language_info": {
   "codemirror_mode": {
    "name": "ipython",
    "version": 3
   },
   "file_extension": ".py",
   "mimetype": "text/x-python",
   "name": "python",
   "nbconvert_exporter": "python",
   "pygments_lexer": "ipython3",
   "version": "3.11.5"
  }
 },
 "nbformat": 4,
 "nbformat_minor": 5
}
